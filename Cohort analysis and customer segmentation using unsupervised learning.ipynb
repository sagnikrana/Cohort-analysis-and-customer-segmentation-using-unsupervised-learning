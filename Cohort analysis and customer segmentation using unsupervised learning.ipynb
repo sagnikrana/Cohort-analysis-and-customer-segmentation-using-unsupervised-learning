{
 "cells": [
  {
   "cell_type": "code",
   "execution_count": 508,
   "metadata": {},
   "outputs": [
    {
     "data": {
      "text/html": [
       "\n",
       "    <div class=\"bk-root\">\n",
       "        <a href=\"https://bokeh.pydata.org\" target=\"_blank\" class=\"bk-logo bk-logo-small bk-logo-notebook\"></a>\n",
       "        <span id=\"10276\">Loading BokehJS ...</span>\n",
       "    </div>"
      ]
     },
     "metadata": {},
     "output_type": "display_data"
    },
    {
     "data": {
      "application/javascript": [
       "\n",
       "(function(root) {\n",
       "  function now() {\n",
       "    return new Date();\n",
       "  }\n",
       "\n",
       "  var force = true;\n",
       "\n",
       "  if (typeof (root._bokeh_onload_callbacks) === \"undefined\" || force === true) {\n",
       "    root._bokeh_onload_callbacks = [];\n",
       "    root._bokeh_is_loading = undefined;\n",
       "  }\n",
       "\n",
       "  var JS_MIME_TYPE = 'application/javascript';\n",
       "  var HTML_MIME_TYPE = 'text/html';\n",
       "  var EXEC_MIME_TYPE = 'application/vnd.bokehjs_exec.v0+json';\n",
       "  var CLASS_NAME = 'output_bokeh rendered_html';\n",
       "\n",
       "  /**\n",
       "   * Render data to the DOM node\n",
       "   */\n",
       "  function render(props, node) {\n",
       "    var script = document.createElement(\"script\");\n",
       "    node.appendChild(script);\n",
       "  }\n",
       "\n",
       "  /**\n",
       "   * Handle when an output is cleared or removed\n",
       "   */\n",
       "  function handleClearOutput(event, handle) {\n",
       "    var cell = handle.cell;\n",
       "\n",
       "    var id = cell.output_area._bokeh_element_id;\n",
       "    var server_id = cell.output_area._bokeh_server_id;\n",
       "    // Clean up Bokeh references\n",
       "    if (id != null && id in Bokeh.index) {\n",
       "      Bokeh.index[id].model.document.clear();\n",
       "      delete Bokeh.index[id];\n",
       "    }\n",
       "\n",
       "    if (server_id !== undefined) {\n",
       "      // Clean up Bokeh references\n",
       "      var cmd = \"from bokeh.io.state import curstate; print(curstate().uuid_to_server['\" + server_id + \"'].get_sessions()[0].document.roots[0]._id)\";\n",
       "      cell.notebook.kernel.execute(cmd, {\n",
       "        iopub: {\n",
       "          output: function(msg) {\n",
       "            var id = msg.content.text.trim();\n",
       "            if (id in Bokeh.index) {\n",
       "              Bokeh.index[id].model.document.clear();\n",
       "              delete Bokeh.index[id];\n",
       "            }\n",
       "          }\n",
       "        }\n",
       "      });\n",
       "      // Destroy server and session\n",
       "      var cmd = \"import bokeh.io.notebook as ion; ion.destroy_server('\" + server_id + \"')\";\n",
       "      cell.notebook.kernel.execute(cmd);\n",
       "    }\n",
       "  }\n",
       "\n",
       "  /**\n",
       "   * Handle when a new output is added\n",
       "   */\n",
       "  function handleAddOutput(event, handle) {\n",
       "    var output_area = handle.output_area;\n",
       "    var output = handle.output;\n",
       "\n",
       "    // limit handleAddOutput to display_data with EXEC_MIME_TYPE content only\n",
       "    if ((output.output_type != \"display_data\") || (!output.data.hasOwnProperty(EXEC_MIME_TYPE))) {\n",
       "      return\n",
       "    }\n",
       "\n",
       "    var toinsert = output_area.element.find(\".\" + CLASS_NAME.split(' ')[0]);\n",
       "\n",
       "    if (output.metadata[EXEC_MIME_TYPE][\"id\"] !== undefined) {\n",
       "      toinsert[toinsert.length - 1].firstChild.textContent = output.data[JS_MIME_TYPE];\n",
       "      // store reference to embed id on output_area\n",
       "      output_area._bokeh_element_id = output.metadata[EXEC_MIME_TYPE][\"id\"];\n",
       "    }\n",
       "    if (output.metadata[EXEC_MIME_TYPE][\"server_id\"] !== undefined) {\n",
       "      var bk_div = document.createElement(\"div\");\n",
       "      bk_div.innerHTML = output.data[HTML_MIME_TYPE];\n",
       "      var script_attrs = bk_div.children[0].attributes;\n",
       "      for (var i = 0; i < script_attrs.length; i++) {\n",
       "        toinsert[toinsert.length - 1].firstChild.setAttribute(script_attrs[i].name, script_attrs[i].value);\n",
       "      }\n",
       "      // store reference to server id on output_area\n",
       "      output_area._bokeh_server_id = output.metadata[EXEC_MIME_TYPE][\"server_id\"];\n",
       "    }\n",
       "  }\n",
       "\n",
       "  function register_renderer(events, OutputArea) {\n",
       "\n",
       "    function append_mime(data, metadata, element) {\n",
       "      // create a DOM node to render to\n",
       "      var toinsert = this.create_output_subarea(\n",
       "        metadata,\n",
       "        CLASS_NAME,\n",
       "        EXEC_MIME_TYPE\n",
       "      );\n",
       "      this.keyboard_manager.register_events(toinsert);\n",
       "      // Render to node\n",
       "      var props = {data: data, metadata: metadata[EXEC_MIME_TYPE]};\n",
       "      render(props, toinsert[toinsert.length - 1]);\n",
       "      element.append(toinsert);\n",
       "      return toinsert\n",
       "    }\n",
       "\n",
       "    /* Handle when an output is cleared or removed */\n",
       "    events.on('clear_output.CodeCell', handleClearOutput);\n",
       "    events.on('delete.Cell', handleClearOutput);\n",
       "\n",
       "    /* Handle when a new output is added */\n",
       "    events.on('output_added.OutputArea', handleAddOutput);\n",
       "\n",
       "    /**\n",
       "     * Register the mime type and append_mime function with output_area\n",
       "     */\n",
       "    OutputArea.prototype.register_mime_type(EXEC_MIME_TYPE, append_mime, {\n",
       "      /* Is output safe? */\n",
       "      safe: true,\n",
       "      /* Index of renderer in `output_area.display_order` */\n",
       "      index: 0\n",
       "    });\n",
       "  }\n",
       "\n",
       "  // register the mime type if in Jupyter Notebook environment and previously unregistered\n",
       "  if (root.Jupyter !== undefined) {\n",
       "    var events = require('base/js/events');\n",
       "    var OutputArea = require('notebook/js/outputarea').OutputArea;\n",
       "\n",
       "    if (OutputArea.prototype.mime_types().indexOf(EXEC_MIME_TYPE) == -1) {\n",
       "      register_renderer(events, OutputArea);\n",
       "    }\n",
       "  }\n",
       "\n",
       "  \n",
       "  if (typeof (root._bokeh_timeout) === \"undefined\" || force === true) {\n",
       "    root._bokeh_timeout = Date.now() + 5000;\n",
       "    root._bokeh_failed_load = false;\n",
       "  }\n",
       "\n",
       "  var NB_LOAD_WARNING = {'data': {'text/html':\n",
       "     \"<div style='background-color: #fdd'>\\n\"+\n",
       "     \"<p>\\n\"+\n",
       "     \"BokehJS does not appear to have successfully loaded. If loading BokehJS from CDN, this \\n\"+\n",
       "     \"may be due to a slow or bad network connection. Possible fixes:\\n\"+\n",
       "     \"</p>\\n\"+\n",
       "     \"<ul>\\n\"+\n",
       "     \"<li>re-rerun `output_notebook()` to attempt to load from CDN again, or</li>\\n\"+\n",
       "     \"<li>use INLINE resources instead, as so:</li>\\n\"+\n",
       "     \"</ul>\\n\"+\n",
       "     \"<code>\\n\"+\n",
       "     \"from bokeh.resources import INLINE\\n\"+\n",
       "     \"output_notebook(resources=INLINE)\\n\"+\n",
       "     \"</code>\\n\"+\n",
       "     \"</div>\"}};\n",
       "\n",
       "  function display_loaded() {\n",
       "    var el = document.getElementById(\"10276\");\n",
       "    if (el != null) {\n",
       "      el.textContent = \"BokehJS is loading...\";\n",
       "    }\n",
       "    if (root.Bokeh !== undefined) {\n",
       "      if (el != null) {\n",
       "        el.textContent = \"BokehJS \" + root.Bokeh.version + \" successfully loaded.\";\n",
       "      }\n",
       "    } else if (Date.now() < root._bokeh_timeout) {\n",
       "      setTimeout(display_loaded, 100)\n",
       "    }\n",
       "  }\n",
       "\n",
       "\n",
       "  function run_callbacks() {\n",
       "    try {\n",
       "      root._bokeh_onload_callbacks.forEach(function(callback) { callback() });\n",
       "    }\n",
       "    finally {\n",
       "      delete root._bokeh_onload_callbacks\n",
       "    }\n",
       "    console.info(\"Bokeh: all callbacks have finished\");\n",
       "  }\n",
       "\n",
       "  function load_libs(js_urls, callback) {\n",
       "    root._bokeh_onload_callbacks.push(callback);\n",
       "    if (root._bokeh_is_loading > 0) {\n",
       "      console.log(\"Bokeh: BokehJS is being loaded, scheduling callback at\", now());\n",
       "      return null;\n",
       "    }\n",
       "    if (js_urls == null || js_urls.length === 0) {\n",
       "      run_callbacks();\n",
       "      return null;\n",
       "    }\n",
       "    console.log(\"Bokeh: BokehJS not loaded, scheduling load and callback at\", now());\n",
       "    root._bokeh_is_loading = js_urls.length;\n",
       "    for (var i = 0; i < js_urls.length; i++) {\n",
       "      var url = js_urls[i];\n",
       "      var s = document.createElement('script');\n",
       "      s.src = url;\n",
       "      s.async = false;\n",
       "      s.onreadystatechange = s.onload = function() {\n",
       "        root._bokeh_is_loading--;\n",
       "        if (root._bokeh_is_loading === 0) {\n",
       "          console.log(\"Bokeh: all BokehJS libraries loaded\");\n",
       "          run_callbacks()\n",
       "        }\n",
       "      };\n",
       "      s.onerror = function() {\n",
       "        console.warn(\"failed to load library \" + url);\n",
       "      };\n",
       "      console.log(\"Bokeh: injecting script tag for BokehJS library: \", url);\n",
       "      document.getElementsByTagName(\"head\")[0].appendChild(s);\n",
       "    }\n",
       "  };var element = document.getElementById(\"10276\");\n",
       "  if (element == null) {\n",
       "    console.log(\"Bokeh: ERROR: autoload.js configured with elementid '10276' but no matching script tag was found. \")\n",
       "    return false;\n",
       "  }\n",
       "\n",
       "  var js_urls = [\"https://cdn.pydata.org/bokeh/release/bokeh-1.0.3.min.js\", \"https://cdn.pydata.org/bokeh/release/bokeh-widgets-1.0.3.min.js\", \"https://cdn.pydata.org/bokeh/release/bokeh-tables-1.0.3.min.js\", \"https://cdn.pydata.org/bokeh/release/bokeh-gl-1.0.3.min.js\"];\n",
       "\n",
       "  var inline_js = [\n",
       "    function(Bokeh) {\n",
       "      Bokeh.set_log_level(\"info\");\n",
       "    },\n",
       "    \n",
       "    function(Bokeh) {\n",
       "      \n",
       "    },\n",
       "    function(Bokeh) {\n",
       "      console.log(\"Bokeh: injecting CSS: https://cdn.pydata.org/bokeh/release/bokeh-1.0.3.min.css\");\n",
       "      Bokeh.embed.inject_css(\"https://cdn.pydata.org/bokeh/release/bokeh-1.0.3.min.css\");\n",
       "      console.log(\"Bokeh: injecting CSS: https://cdn.pydata.org/bokeh/release/bokeh-widgets-1.0.3.min.css\");\n",
       "      Bokeh.embed.inject_css(\"https://cdn.pydata.org/bokeh/release/bokeh-widgets-1.0.3.min.css\");\n",
       "      console.log(\"Bokeh: injecting CSS: https://cdn.pydata.org/bokeh/release/bokeh-tables-1.0.3.min.css\");\n",
       "      Bokeh.embed.inject_css(\"https://cdn.pydata.org/bokeh/release/bokeh-tables-1.0.3.min.css\");\n",
       "    }\n",
       "  ];\n",
       "\n",
       "  function run_inline_js() {\n",
       "    \n",
       "    if ((root.Bokeh !== undefined) || (force === true)) {\n",
       "      for (var i = 0; i < inline_js.length; i++) {\n",
       "        inline_js[i].call(root, root.Bokeh);\n",
       "      }if (force === true) {\n",
       "        display_loaded();\n",
       "      }} else if (Date.now() < root._bokeh_timeout) {\n",
       "      setTimeout(run_inline_js, 100);\n",
       "    } else if (!root._bokeh_failed_load) {\n",
       "      console.log(\"Bokeh: BokehJS failed to load within specified timeout.\");\n",
       "      root._bokeh_failed_load = true;\n",
       "    } else if (force !== true) {\n",
       "      var cell = $(document.getElementById(\"10276\")).parents('.cell').data().cell;\n",
       "      cell.output_area.append_execute_result(NB_LOAD_WARNING)\n",
       "    }\n",
       "\n",
       "  }\n",
       "\n",
       "  if (root._bokeh_is_loading === 0) {\n",
       "    console.log(\"Bokeh: BokehJS loaded, going straight to plotting\");\n",
       "    run_inline_js();\n",
       "  } else {\n",
       "    load_libs(js_urls, function() {\n",
       "      console.log(\"Bokeh: BokehJS plotting callback run at\", now());\n",
       "      run_inline_js();\n",
       "    });\n",
       "  }\n",
       "}(window));"
      ],
      "application/vnd.bokehjs_load.v0+json": "\n(function(root) {\n  function now() {\n    return new Date();\n  }\n\n  var force = true;\n\n  if (typeof (root._bokeh_onload_callbacks) === \"undefined\" || force === true) {\n    root._bokeh_onload_callbacks = [];\n    root._bokeh_is_loading = undefined;\n  }\n\n  \n\n  \n  if (typeof (root._bokeh_timeout) === \"undefined\" || force === true) {\n    root._bokeh_timeout = Date.now() + 5000;\n    root._bokeh_failed_load = false;\n  }\n\n  var NB_LOAD_WARNING = {'data': {'text/html':\n     \"<div style='background-color: #fdd'>\\n\"+\n     \"<p>\\n\"+\n     \"BokehJS does not appear to have successfully loaded. If loading BokehJS from CDN, this \\n\"+\n     \"may be due to a slow or bad network connection. Possible fixes:\\n\"+\n     \"</p>\\n\"+\n     \"<ul>\\n\"+\n     \"<li>re-rerun `output_notebook()` to attempt to load from CDN again, or</li>\\n\"+\n     \"<li>use INLINE resources instead, as so:</li>\\n\"+\n     \"</ul>\\n\"+\n     \"<code>\\n\"+\n     \"from bokeh.resources import INLINE\\n\"+\n     \"output_notebook(resources=INLINE)\\n\"+\n     \"</code>\\n\"+\n     \"</div>\"}};\n\n  function display_loaded() {\n    var el = document.getElementById(\"10276\");\n    if (el != null) {\n      el.textContent = \"BokehJS is loading...\";\n    }\n    if (root.Bokeh !== undefined) {\n      if (el != null) {\n        el.textContent = \"BokehJS \" + root.Bokeh.version + \" successfully loaded.\";\n      }\n    } else if (Date.now() < root._bokeh_timeout) {\n      setTimeout(display_loaded, 100)\n    }\n  }\n\n\n  function run_callbacks() {\n    try {\n      root._bokeh_onload_callbacks.forEach(function(callback) { callback() });\n    }\n    finally {\n      delete root._bokeh_onload_callbacks\n    }\n    console.info(\"Bokeh: all callbacks have finished\");\n  }\n\n  function load_libs(js_urls, callback) {\n    root._bokeh_onload_callbacks.push(callback);\n    if (root._bokeh_is_loading > 0) {\n      console.log(\"Bokeh: BokehJS is being loaded, scheduling callback at\", now());\n      return null;\n    }\n    if (js_urls == null || js_urls.length === 0) {\n      run_callbacks();\n      return null;\n    }\n    console.log(\"Bokeh: BokehJS not loaded, scheduling load and callback at\", now());\n    root._bokeh_is_loading = js_urls.length;\n    for (var i = 0; i < js_urls.length; i++) {\n      var url = js_urls[i];\n      var s = document.createElement('script');\n      s.src = url;\n      s.async = false;\n      s.onreadystatechange = s.onload = function() {\n        root._bokeh_is_loading--;\n        if (root._bokeh_is_loading === 0) {\n          console.log(\"Bokeh: all BokehJS libraries loaded\");\n          run_callbacks()\n        }\n      };\n      s.onerror = function() {\n        console.warn(\"failed to load library \" + url);\n      };\n      console.log(\"Bokeh: injecting script tag for BokehJS library: \", url);\n      document.getElementsByTagName(\"head\")[0].appendChild(s);\n    }\n  };var element = document.getElementById(\"10276\");\n  if (element == null) {\n    console.log(\"Bokeh: ERROR: autoload.js configured with elementid '10276' but no matching script tag was found. \")\n    return false;\n  }\n\n  var js_urls = [\"https://cdn.pydata.org/bokeh/release/bokeh-1.0.3.min.js\", \"https://cdn.pydata.org/bokeh/release/bokeh-widgets-1.0.3.min.js\", \"https://cdn.pydata.org/bokeh/release/bokeh-tables-1.0.3.min.js\", \"https://cdn.pydata.org/bokeh/release/bokeh-gl-1.0.3.min.js\"];\n\n  var inline_js = [\n    function(Bokeh) {\n      Bokeh.set_log_level(\"info\");\n    },\n    \n    function(Bokeh) {\n      \n    },\n    function(Bokeh) {\n      console.log(\"Bokeh: injecting CSS: https://cdn.pydata.org/bokeh/release/bokeh-1.0.3.min.css\");\n      Bokeh.embed.inject_css(\"https://cdn.pydata.org/bokeh/release/bokeh-1.0.3.min.css\");\n      console.log(\"Bokeh: injecting CSS: https://cdn.pydata.org/bokeh/release/bokeh-widgets-1.0.3.min.css\");\n      Bokeh.embed.inject_css(\"https://cdn.pydata.org/bokeh/release/bokeh-widgets-1.0.3.min.css\");\n      console.log(\"Bokeh: injecting CSS: https://cdn.pydata.org/bokeh/release/bokeh-tables-1.0.3.min.css\");\n      Bokeh.embed.inject_css(\"https://cdn.pydata.org/bokeh/release/bokeh-tables-1.0.3.min.css\");\n    }\n  ];\n\n  function run_inline_js() {\n    \n    if ((root.Bokeh !== undefined) || (force === true)) {\n      for (var i = 0; i < inline_js.length; i++) {\n        inline_js[i].call(root, root.Bokeh);\n      }if (force === true) {\n        display_loaded();\n      }} else if (Date.now() < root._bokeh_timeout) {\n      setTimeout(run_inline_js, 100);\n    } else if (!root._bokeh_failed_load) {\n      console.log(\"Bokeh: BokehJS failed to load within specified timeout.\");\n      root._bokeh_failed_load = true;\n    } else if (force !== true) {\n      var cell = $(document.getElementById(\"10276\")).parents('.cell').data().cell;\n      cell.output_area.append_execute_result(NB_LOAD_WARNING)\n    }\n\n  }\n\n  if (root._bokeh_is_loading === 0) {\n    console.log(\"Bokeh: BokehJS loaded, going straight to plotting\");\n    run_inline_js();\n  } else {\n    load_libs(js_urls, function() {\n      console.log(\"Bokeh: BokehJS plotting callback run at\", now());\n      run_inline_js();\n    });\n  }\n}(window));"
     },
     "metadata": {},
     "output_type": "display_data"
    }
   ],
   "source": [
    "import datetime as dt\n",
    "import pandas as pd\n",
    "import seaborn as sns\n",
    "import matplotlib.pyplot as plt\n",
    "from bokeh.plotting import figure, show\n",
    "from bokeh.io import output_notebook\n",
    "from sklearn.preprocessing import StandardScaler\n",
    "from sklearn.cluster import KMeans\n",
    "output_notebook()\n",
    "pd.set_option('display.max_rows',10000)\n",
    "pd.set_option('display.max_columns',100)\n",
    "pd.set_option('display.max_colwidth',100)\n",
    "pd.set_option('display.width',None)"
   ]
  },
  {
   "cell_type": "markdown",
   "metadata": {},
   "source": [
    "Cohort Analysis:\n",
    "\n",
    "Enables the business to customize the pricing strategy and reinvent their products if required.\n",
    "Cohort analysis compare metrics across product lifecycle.\n",
    "It also compare metrics across customer lifecycle.\n",
    "\n",
    "Time Cohort - :\n",
    "Time cohort are the customers who signed up for a product or service for a specific amount of time. Analysing these cohort gives us insight about how they enjoy using the products at that time frame.\n",
    "\n",
    "Behaviour cohort - :\n",
    "Behaviour cohort are the customers who signed up for a product in the past and continue to use those kind of products in the coming time.\n",
    "\n",
    "Size cohort - :\n",
    "This depics the size of the customers who are signed of for a particular product. Change in this cohort has direct implications on the revenue generated.\n"
   ]
  },
  {
   "cell_type": "markdown",
   "metadata": {},
   "source": [
    "\n",
    "We will segment customers in the cohort based on the month they made their first purchase. Then we will assign the cohort index to each purchase of the customer to represent the number of months since the first transaction."
   ]
  },
  {
   "cell_type": "code",
   "execution_count": 509,
   "metadata": {},
   "outputs": [
    {
     "name": "stdout",
     "output_type": "stream",
     "text": [
      "   Unnamed: 0  InvoiceNo StockCode                      Description  Quantity  \\\n",
      "0      416792     572558     22745       POPPY'S PLAYHOUSE BEDROOM          6   \n",
      "1      482904     577485     23196    VINTAGE LEAF MAGNETIC NOTEPAD         1   \n",
      "2      263743     560034     23299     FOOD COVER WITH BEADS SET 2          6   \n",
      "3      495549     578307    72349B  SET/6 PURPLE BUTTERFLY T-LIGHTS         1   \n",
      "4      204384     554656     21756         BATH BUILDING BLOCK WORD         3   \n",
      "\n",
      "        InvoiceDate  UnitPrice  CustomerID         Country  \n",
      "0   10/25/2011 8:26       2.10       14286  United Kingdom  \n",
      "1  11/20/2011 11:56       1.45       16360  United Kingdom  \n",
      "2   7/14/2011 13:35       3.75       13933  United Kingdom  \n",
      "3  11/23/2011 15:53       2.10       17290  United Kingdom  \n",
      "4   5/25/2011 13:36       5.95       17663  United Kingdom  \n"
     ]
    }
   ],
   "source": [
    "# Reading the data\n",
    "online = pd.read_csv('online_c1.csv')\n",
    "print(online.head())"
   ]
  },
  {
   "cell_type": "code",
   "execution_count": 510,
   "metadata": {},
   "outputs": [
    {
     "name": "stdout",
     "output_type": "stream",
     "text": [
      "   Unnamed: 0  InvoiceNo StockCode                      Description  Quantity  \\\n",
      "0      416792     572558     22745       POPPY'S PLAYHOUSE BEDROOM          6   \n",
      "1      482904     577485     23196    VINTAGE LEAF MAGNETIC NOTEPAD         1   \n",
      "2      263743     560034     23299     FOOD COVER WITH BEADS SET 2          6   \n",
      "3      495549     578307    72349B  SET/6 PURPLE BUTTERFLY T-LIGHTS         1   \n",
      "4      204384     554656     21756         BATH BUILDING BLOCK WORD         3   \n",
      "\n",
      "          InvoiceDate  UnitPrice  CustomerID         Country InvoiceDay  \\\n",
      "0 2011-10-25 08:26:00       2.10       14286  United Kingdom 2011-10-25   \n",
      "1 2011-11-20 11:56:00       1.45       16360  United Kingdom 2011-11-20   \n",
      "2 2011-07-14 13:35:00       3.75       13933  United Kingdom 2011-07-14   \n",
      "3 2011-11-23 15:53:00       2.10       17290  United Kingdom 2011-11-23   \n",
      "4 2011-05-25 13:36:00       5.95       17663  United Kingdom 2011-05-25   \n",
      "\n",
      "   CohortDay  \n",
      "0 2011-04-11  \n",
      "1 2011-09-12  \n",
      "2 2011-07-14  \n",
      "3 2011-11-23  \n",
      "4 2011-02-25  \n"
     ]
    }
   ],
   "source": [
    "# Defining a function that will parse the date\n",
    "def get_day(x): return dt.datetime(x.year, x.month, x.day) \n",
    "\n",
    "def get_day_first(x): return dt.datetime(x.year, x.month, 1) \n",
    "\n",
    "# Defining a function that will return date in the for of year, month and day\n",
    "def get_date_int(df, column):\n",
    "    year = df[column].dt.year\n",
    "    month = df[column].dt.month\n",
    "    day = df[column].dt.day\n",
    "    return year, month, day\n",
    "\n",
    "# Function to create the dataframe\n",
    "def create_excel_from_text(name):\n",
    "     # Cleaning the 2017 dataset\n",
    "    dataset = pd.read_excel(name)\n",
    "\n",
    "    # Sorting the columns\n",
    "    columns = list(dataset.columns)\n",
    "    text = columns[0]\n",
    "    array = text.split(\"  \")\n",
    "    column_list = []\n",
    "    for item in array:\n",
    "        if len(item) > 0:\n",
    "            column_list.append(item.strip())\n",
    "\n",
    "    # Sorting rest of the data\n",
    "    complete_data = []\n",
    "\n",
    "    for i in range(1,len(dataset)+1):\n",
    "        n = list(dataset.iloc[i:i+1,0])\n",
    "        if len(n) > 0:\n",
    "            array = n[0].split(\" \")\n",
    "            temp_list = []\n",
    "            for item_index in range(1, len(array)):\n",
    "                if len(array[item_index]) > 0:\n",
    "                    temp_list.append(array[item_index].strip())\n",
    "        complete_data.append(temp_list)\n",
    "\n",
    "    dataframe = pd.DataFrame(complete_data, columns = column_list)\n",
    "    return dataframe\n",
    "\n",
    "# Creating InvoiceDay column\n",
    "online['InvoiceDate'] = pd.to_datetime(online['InvoiceDate'])\n",
    "\n",
    "online['InvoiceDay'] = online['InvoiceDate'].apply(get_day) \n",
    "\n",
    "# Grouping by CustomerID and selecting the InvoiceDay value\n",
    "grouping = online.groupby('CustomerID')['InvoiceDay'] \n",
    "\n",
    "# Assigning a minimum InvoiceDay value to the dataset\n",
    "online['CohortDay'] = grouping.transform('min')\n",
    "\n",
    "# Viewing the top 5 rows\n",
    "print(online.head())"
   ]
  },
  {
   "cell_type": "code",
   "execution_count": 511,
   "metadata": {},
   "outputs": [
    {
     "name": "stdout",
     "output_type": "stream",
     "text": [
      "   Unnamed: 0  InvoiceNo StockCode                      Description  Quantity  \\\n",
      "0      416792     572558     22745       POPPY'S PLAYHOUSE BEDROOM          6   \n",
      "1      482904     577485     23196    VINTAGE LEAF MAGNETIC NOTEPAD         1   \n",
      "2      263743     560034     23299     FOOD COVER WITH BEADS SET 2          6   \n",
      "3      495549     578307    72349B  SET/6 PURPLE BUTTERFLY T-LIGHTS         1   \n",
      "4      204384     554656     21756         BATH BUILDING BLOCK WORD         3   \n",
      "\n",
      "          InvoiceDate  UnitPrice  CustomerID         Country InvoiceDay  \\\n",
      "0 2011-10-25 08:26:00       2.10       14286  United Kingdom 2011-10-25   \n",
      "1 2011-11-20 11:56:00       1.45       16360  United Kingdom 2011-11-20   \n",
      "2 2011-07-14 13:35:00       3.75       13933  United Kingdom 2011-07-14   \n",
      "3 2011-11-23 15:53:00       2.10       17290  United Kingdom 2011-11-23   \n",
      "4 2011-05-25 13:36:00       5.95       17663  United Kingdom 2011-05-25   \n",
      "\n",
      "   CohortDay CohortMonth InvoiceMonth  CohortIndex  \n",
      "0 2011-04-11  2011-04-01   2011-10-01            7  \n",
      "1 2011-09-12  2011-09-01   2011-11-01            3  \n",
      "2 2011-07-14  2011-07-01   2011-07-01            1  \n",
      "3 2011-11-23  2011-11-01   2011-11-01            1  \n",
      "4 2011-02-25  2011-02-01   2011-05-01            4  \n"
     ]
    }
   ],
   "source": [
    "# Calculating the time offset\n",
    "\n",
    "# Geting the integers for date parts from the InvoiceDaycolumn\n",
    "invoice_year, invoice_month, invoice_day = get_date_int(online, 'InvoiceDay')\n",
    "\n",
    "# Getting the integers for date parts from the CohortDay column\n",
    "cohort_year, cohort_month, cohort_day = get_date_int(online, 'CohortDay')\n",
    "\n",
    "# Calculating difference in years\n",
    "years_diff = invoice_year - cohort_year\n",
    "\n",
    "# Calculating difference in months\n",
    "months_diff = invoice_month - cohort_month\n",
    "\n",
    "# Calculating difference in days\n",
    "days_diff = invoice_day - cohort_day\n",
    "\n",
    "online['CohortMonth'] = online['CohortDay'].apply(get_day_first)\n",
    "online['InvoiceMonth'] = online['InvoiceDay'].apply(get_day_first)\n",
    "\n",
    "# Extracting the difference in days from all previous values\n",
    "online['CohortIndex'] = years_diff * 12 + months_diff + 1\n",
    "\n",
    "print(online.head())"
   ]
  },
  {
   "cell_type": "markdown",
   "metadata": {},
   "source": [
    "Retention:\n",
    "Retention is the percentage of active customers compared to the total number of customers.\n"
   ]
  },
  {
   "cell_type": "markdown",
   "metadata": {},
   "source": [
    "Creating the retention matrix - :"
   ]
  },
  {
   "cell_type": "code",
   "execution_count": 512,
   "metadata": {},
   "outputs": [],
   "source": [
    "online = online.rename(columns = {'Unnamed: 0' : 'IndexColumn'})\n",
    "\n",
    "# Counting the number of unique values per customer ID\n",
    "grouping = online.groupby(['CohortMonth', 'CohortIndex'])\n",
    "\n",
    "cohort_data = grouping['CustomerID'].apply(pd.Series.nunique)\n",
    "\n",
    "cohort_data = cohort_data.reset_index()\n",
    "\n",
    "# Creating a pivot \n",
    "cohort_counts = cohort_data.pivot(index='CohortMonth', columns='CohortIndex', values='CustomerID')\n",
    "\n",
    "# Selecting the first column and storing it to cohort_sizes\n",
    "cohort_sizes = cohort_counts.iloc[:,0]\n",
    "\n",
    "# Dividing the cohort count by cohort sizes along the rows\n",
    "retention = cohort_counts.divide(cohort_sizes, axis=0)"
   ]
  },
  {
   "cell_type": "markdown",
   "metadata": {},
   "source": [
    "Calculating the average price"
   ]
  },
  {
   "cell_type": "code",
   "execution_count": 513,
   "metadata": {},
   "outputs": [
    {
     "name": "stdout",
     "output_type": "stream",
     "text": [
      "CohortIndex   1    2    3    4    5    6    7    8    9    10   11   12   13\n",
      "CohortMonth                                                                 \n",
      "2010-12-01   3.0  3.0  3.0  2.8  2.7  6.9  2.8  3.0  2.7  2.7  3.0  2.8  2.6\n",
      "2011-01-01   3.2  3.1  3.0  3.0  3.1  3.0  3.0  2.5  2.7  2.9  2.6  2.0  NaN\n",
      "2011-02-01   3.1  4.0  3.3  2.9  3.3  2.9  2.8  2.7  2.9  2.7  3.1  NaN  NaN\n",
      "2011-03-01   3.5  3.6  3.5  2.8  2.7  2.5  2.7  2.9  2.5  2.4  NaN  NaN  NaN\n",
      "2011-04-01   3.3  4.4  3.4  2.6  2.8  2.8  2.8  2.6  2.6  NaN  NaN  NaN  NaN\n",
      "2011-05-01   3.1  2.8  2.5  2.7  2.5  2.3  2.7  2.3  NaN  NaN  NaN  NaN  NaN\n",
      "2011-06-01   2.8  2.4  2.7  3.1  2.5  2.4  2.5  NaN  NaN  NaN  NaN  NaN  NaN\n",
      "2011-07-01   3.2  3.1  3.4  2.5  2.4  2.3  NaN  NaN  NaN  NaN  NaN  NaN  NaN\n",
      "2011-08-01   2.9  3.7  5.4  6.9  4.2  NaN  NaN  NaN  NaN  NaN  NaN  NaN  NaN\n",
      "2011-09-01   2.9  3.1  3.0  2.6  NaN  NaN  NaN  NaN  NaN  NaN  NaN  NaN  NaN\n",
      "2011-10-01   2.9  2.7  2.5  NaN  NaN  NaN  NaN  NaN  NaN  NaN  NaN  NaN  NaN\n",
      "2011-11-01   2.5  2.1  NaN  NaN  NaN  NaN  NaN  NaN  NaN  NaN  NaN  NaN  NaN\n",
      "2011-12-01   1.9  NaN  NaN  NaN  NaN  NaN  NaN  NaN  NaN  NaN  NaN  NaN  NaN\n"
     ]
    }
   ],
   "source": [
    "# Creating a groupby object and passing the monthly cohort and cohort index as a list\n",
    "grouping = online.groupby(['CohortMonth', 'CohortIndex']) \n",
    "\n",
    "# Calculating the average of the unit price \n",
    "cohort_data = grouping['UnitPrice'].mean()\n",
    "\n",
    "# Resetting the index of cohort_data\n",
    "cohort_data = cohort_data.reset_index()\n",
    "\n",
    "# Creating a pivot \n",
    "average_quantity = cohort_data.pivot(index='CohortMonth', columns='CohortIndex', values='UnitPrice')\n",
    "print(average_quantity.round(1))"
   ]
  },
  {
   "cell_type": "markdown",
   "metadata": {},
   "source": [
    "Building the heatmap using seaborn"
   ]
  },
  {
   "cell_type": "code",
   "execution_count": 514,
   "metadata": {},
   "outputs": [
    {
     "name": "stdout",
     "output_type": "stream",
     "text": [
      "CohortIndex        1         2         3         4         5         6   \\\n",
      "CohortMonth                                                               \n",
      "2010-12-01   3.035915  3.044060  2.995071  2.835175  2.727067  6.915204   \n",
      "2011-01-01   3.162917  3.141353  2.958424  3.008941  3.131221  3.031010   \n",
      "2011-02-01   3.086426  3.953403  3.307352  2.916895  3.280114  2.921393   \n",
      "2011-03-01   3.528781  3.621809  3.509201  2.760234  2.737149  2.471535   \n",
      "2011-04-01   3.295611  4.440175  3.413277  2.584912  2.843745  2.780612   \n",
      "\n",
      "CohortIndex        7         8         9         10        11        12  \\\n",
      "CohortMonth                                                               \n",
      "2010-12-01   2.799492  2.975229  2.723557  2.662417  2.969708  2.835004   \n",
      "2011-01-01   2.965248  2.462527  2.712411  2.920199  2.551068  2.008503   \n",
      "2011-02-01   2.814505  2.680037  2.909025  2.728820  3.084757       NaN   \n",
      "2011-03-01   2.651238  2.912420  2.537374  2.440047       NaN       NaN   \n",
      "2011-04-01   2.837995  2.631027  2.606111       NaN       NaN       NaN   \n",
      "\n",
      "CohortIndex        13  \n",
      "CohortMonth            \n",
      "2010-12-01   2.633262  \n",
      "2011-01-01        NaN  \n",
      "2011-02-01        NaN  \n",
      "2011-03-01        NaN  \n",
      "2011-04-01        NaN  \n"
     ]
    },
    {
     "data": {
      "image/png": "[encoded data removed]",
      "text/plain": [
       "<Figure size 864x720 with 2 Axes>"
      ]
     },
     "metadata": {},
     "output_type": "display_data"
    }
   ],
   "source": [
    "# Initialized an 8 by 6 inches plot figure\n",
    "plt.figure(figsize=(12, 10))\n",
    "\n",
    "plt.title('Average Spend by Monthly Cohorts')\n",
    "print(average_quantity.head())\n",
    "# Creating the heatmap\n",
    "sns.heatmap(average_quantity, annot=True, cmap='Blues')\n",
    "plt.show()"
   ]
  },
  {
   "cell_type": "code",
   "execution_count": 515,
   "metadata": {},
   "outputs": [
    {
     "data": {
      "image/png": "[encoded data removed]",
      "text/plain": [
       "<Figure size 864x720 with 2 Axes>"
      ]
     },
     "metadata": {},
     "output_type": "display_data"
    }
   ],
   "source": [
    "retention.round(3) * 100\n",
    "\n",
    "grouping = online.groupby(['CohortMonth','CohortIndex'])\n",
    "\n",
    "cohort_data = grouping['Quantity'].mean()\n",
    "\n",
    "cohort_data = cohort_data.reset_index()\n",
    "\n",
    "average_quantity = cohort_data.pivot(index = 'CohortMonth', columns = 'CohortIndex', values = 'Quantity')\n",
    "\n",
    "plt.figure(figsize = (12,10))\n",
    "\n",
    "plt.title(\"Retention information\")\n",
    "\n",
    "sns.heatmap(data = retention,annot = True, fmt = '.0%',vmin = 0.0, vmax = 0.5, cmap = 'BuGn')\n",
    "\n",
    "plt.show()"
   ]
  },
  {
   "cell_type": "markdown",
   "metadata": {},
   "source": [
    "Recency, Frequency and Monetary (RFM) segmentation:"
   ]
  },
  {
   "cell_type": "code",
   "execution_count": null,
   "metadata": {},
   "outputs": [],
   "source": []
  },
  {
   "cell_type": "markdown",
   "metadata": {},
   "source": [
    "Recency: Days since last customer transaction.\n",
    "Frequency: Number of transactions in the last 12 months.\n",
    "Monetary: Total spend in the last 12 months. "
   ]
  },
  {
   "cell_type": "code",
   "execution_count": 516,
   "metadata": {},
   "outputs": [
    {
     "name": "stdout",
     "output_type": "stream",
     "text": [
      "  CustomerID  Spend\n",
      "0          1    335\n",
      "1          2    172\n",
      "2          3    355\n",
      "3          4    303\n",
      "4          5    233\n",
      "*************\n",
      "  CustomerID  Spend Spend_Quartile\n",
      "1          2    172              1\n",
      "6          7    229              1\n",
      "7          7    229              1\n",
      "4          5    233              2\n",
      "5          6    244              3\n",
      "3          4    303              3\n",
      "0          1    335              4\n",
      "2          3    355              4\n"
     ]
    }
   ],
   "source": [
    "# getting a sample dataframe to work upon the idea of RFM\n",
    "\n",
    "data = create_excel_from_text('SampleCustomer_c2.xlsx')\n",
    "data['Spend'] = pd.to_numeric(data['Spend'])\n",
    "print(data.head())\n",
    "\n",
    "# Creating a spend quartile with 4 groups - a range between 1 and 5\n",
    "spend_quartile = pd.qcut(data['Spend'], q=4, labels=range(1,5))\n",
    "\n",
    "# Assigning the quartile values to the Spend_Quartile column in data\n",
    "data['Spend_Quartile'] = spend_quartile\n",
    "print('*************')\n",
    "# Printing data with sorted Spend values\n",
    "print(data.sort_values('Spend'))"
   ]
  },
  {
   "cell_type": "code",
   "execution_count": 517,
   "metadata": {},
   "outputs": [
    {
     "name": "stdout",
     "output_type": "stream",
     "text": [
      "  CustomerID  Recency_Days\n",
      "0          1           235\n",
      "1          2           396\n",
      "2          3            72\n",
      "3          4           255\n",
      "4          5           393\n",
      "*************\n",
      "  CustomerID  Recency_Days Recency_quartile\n",
      "2          3            72                4\n",
      "6          7           133                4\n",
      "7          7           133                4\n",
      "5          6           203                3\n",
      "0          1           235                2\n",
      "3          4           255                2\n",
      "4          5           393                1\n",
      "1          2           396                1\n"
     ]
    }
   ],
   "source": [
    "data = create_excel_from_text('SampleCustomer_recency_c2.xlsx')\n",
    "data['Recency_Days'] = pd.to_numeric(data['Recency_Days'])\n",
    "print(data.head())\n",
    "# Storing the labels from 4 to 1 in a decreasing order, because the least recent will be our high priority\n",
    "r_labels = list(range(4, 0, -1))\n",
    "\n",
    "# Creating a spend quartile with 4 groups and pass the previously created labels \n",
    "recency_quartiles = pd.qcut(data['Recency_Days'], q=4, labels=r_labels)\n",
    "\n",
    "# Assigning the quartile values to the Recency_Quartile column in `data`\n",
    "data['Recency_quartile'] = recency_quartiles \n",
    "print('*************')\n",
    "# Printing `data` with sorted Recency_Days values\n",
    "print(data.sort_values('Recency_Days'))"
   ]
  },
  {
   "cell_type": "code",
   "execution_count": 518,
   "metadata": {},
   "outputs": [
    {
     "name": "stdout",
     "output_type": "stream",
     "text": [
      "            Recency  Frequency  MonetaryValue\n",
      "CustomerID                                   \n",
      "12747             3         25         948.70\n",
      "12748             1        888        7046.16\n",
      "12749             4         37         813.45\n",
      "12820             4         17         268.02\n",
      "12822            71          9         146.15\n"
     ]
    }
   ],
   "source": [
    "# Loading the actual dataset:\n",
    "\n",
    "online = pd.read_csv('online12M_c2.csv')\n",
    "online['TotalSum'] = online['Quantity'] * online['UnitPrice']\n",
    "\n",
    "snapshot_date = '2011-12-10 00:00:00'\n",
    "snapshot_date = pd.to_datetime(snapshot_date)\n",
    "online['InvoiceDate'] = pd.to_datetime(online['InvoiceDate'])\n",
    "\n",
    "# Calculating the Recency, Frequency and Monetary value for each customer \n",
    "datamart = online.groupby(['CustomerID']).agg({\n",
    "    'InvoiceDate': lambda x: (snapshot_date - x.max()).days,\n",
    "    'InvoiceNo': 'count',\n",
    "    'TotalSum': 'sum'})\n",
    "\n",
    "# Renaming the columns \n",
    "datamart.rename(columns={'InvoiceDate': 'Recency',\n",
    "                         'InvoiceNo': 'Frequency',\n",
    "                         'TotalSum': 'MonetaryValue'}, inplace=True)\n",
    "\n",
    "print(datamart.head())"
   ]
  },
  {
   "cell_type": "markdown",
   "metadata": {},
   "source": [
    "Creating the labels for RFM metrics:"
   ]
  },
  {
   "cell_type": "code",
   "execution_count": 519,
   "metadata": {},
   "outputs": [
    {
     "name": "stdout",
     "output_type": "stream",
     "text": [
      "CustomerID\n",
      "12747    9.0\n",
      "12748    9.0\n",
      "12749    9.0\n",
      "12820    9.0\n",
      "12822    6.0\n",
      "Name: RFM_Score, dtype: float64\n"
     ]
    }
   ],
   "source": [
    "# Creating labels for Recency and Frequency\n",
    "r_labels = range(3, 0, -1); f_labels = range(1, 4)\n",
    "\n",
    "# Assigning these labels to three equal percentile groups \n",
    "r_groups = pd.qcut(datamart['Recency'], q=3, labels=r_labels)\n",
    "\n",
    "# Assigning these labels to three equal percentile groups \n",
    "f_groups = pd.qcut(datamart['Frequency'], q=3, labels=f_labels)\n",
    "\n",
    "# Creating new columns R and F\n",
    "datamart = datamart.assign(R=r_groups.values, F=f_groups.values)\n",
    "\n",
    "# Creating labels for MonetaryValue \n",
    "m_labels = range(1, 4)\n",
    "\n",
    "# Assigning these labels to three equal percentile groups\n",
    "m_groups = pd.qcut(datamart['MonetaryValue'], q=3, labels=m_labels)\n",
    "\n",
    "# Creating new column M\n",
    "datamart = datamart.assign(M=m_groups.values)\n",
    "\n",
    "# Calculating RFM_Score\n",
    "datamart['RFM_Score'] = datamart[['R','F','M']].sum(axis=1)\n",
    "\n",
    "print(datamart['RFM_Score'].head())"
   ]
  },
  {
   "cell_type": "raw",
   "metadata": {},
   "source": [
    "Creating the Customer Segments:"
   ]
  },
  {
   "cell_type": "code",
   "execution_count": 520,
   "metadata": {},
   "outputs": [
    {
     "name": "stdout",
     "output_type": "stream",
     "text": [
      "            Recency  Frequency  MonetaryValue  R  F  M  RFM_Score RFM_Level\n",
      "CustomerID                                                                 \n",
      "12747             3         25         948.70  3  3  3        9.0    Middle\n",
      "12748             1        888        7046.16  3  3  3        9.0    Middle\n",
      "12749             4         37         813.45  3  3  3        9.0    Middle\n",
      "12820             4         17         268.02  3  3  3        9.0    Middle\n",
      "12822            71          9         146.15  2  2  2        6.0    Middle\n"
     ]
    }
   ],
   "source": [
    "# Defining the rfm_level function\n",
    "def rfm_level(df):\n",
    "    if df['RFM_Score'] >= 10:\n",
    "        return 'Top'\n",
    "    elif ((df['RFM_Score'] >= 6) and (df['RFM_Score'] < 10)):\n",
    "        return 'Middle'\n",
    "    else:\n",
    "        return 'Low'\n",
    "\n",
    "# Creating a new variable RFM_Level\n",
    "datamart['RFM_Level'] = datamart.apply(rfm_level, axis=1)\n",
    "\n",
    "print(datamart.head())"
   ]
  },
  {
   "cell_type": "markdown",
   "metadata": {},
   "source": [
    "Analysing the custom segments:"
   ]
  },
  {
   "cell_type": "code",
   "execution_count": 521,
   "metadata": {},
   "outputs": [
    {
     "name": "stdout",
     "output_type": "stream",
     "text": [
      "          Recency Frequency MonetaryValue      \n",
      "             mean      mean          mean count\n",
      "RFM_Level                                      \n",
      "Low         153.4       4.4          86.9  1627\n",
      "Middle       39.6      30.2         599.7  2016\n"
     ]
    }
   ],
   "source": [
    "# Calculating the average values for each RFM_Level, and return a size of each segment \n",
    "rfm_level_agg = datamart.groupby('RFM_Level').agg({\n",
    "    'Recency': 'mean',\n",
    "    'Frequency': 'mean',\n",
    "  \t# Returning the size of each segment\n",
    "    'MonetaryValue': ['mean', 'count']\n",
    "}).round(1)\n",
    "\n",
    "# Printing the aggregated dataset\n",
    "print(rfm_level_agg)"
   ]
  },
  {
   "cell_type": "markdown",
   "metadata": {},
   "source": [
    "Data-Pre processing for K-Means clustering:\n",
    "Key assumptions:\n",
    "1. Symmetric distribution of variables (not skewed)\n",
    "2. All the variables have the same average values. Each metric has equal weight in k-means calculation.\n",
    "3. Variances of the variables should be scaled equally."
   ]
  },
  {
   "cell_type": "code",
   "execution_count": 522,
   "metadata": {},
   "outputs": [
    {
     "data": {
      "image/png": "[encoded data removed]",
      "text/plain": [
       "<Figure size 432x288 with 1 Axes>"
      ]
     },
     "metadata": {},
     "output_type": "display_data"
    },
    {
     "data": {
      "image/png": "[encoded data removed]",
      "text/plain": [
       "<Figure size 432x288 with 1 Axes>"
      ]
     },
     "metadata": {},
     "output_type": "display_data"
    },
    {
     "data": {
      "image/png": "[encoded data removed]",
      "text/plain": [
       "<Figure size 432x288 with 1 Axes>"
      ]
     },
     "metadata": {},
     "output_type": "display_data"
    }
   ],
   "source": [
    "# Visualizing if there is any skewness in the values of RFM metrics\n",
    "datamart_RFM = datamart[['Recency','Frequency','MonetaryValue']]\n",
    "\n",
    "sns.distplot(datamart_RFM['Recency'], color=\"Black\")\n",
    "plt.show()\n",
    "sns.distplot(datamart_RFM['Frequency'], color=\"Gold\")\n",
    "plt.show()\n",
    "sns.distplot(datamart_RFM['MonetaryValue'], color=\"Red\")\n",
    "plt.show()"
   ]
  },
  {
   "cell_type": "markdown",
   "metadata": {},
   "source": [
    "All the values are heavily right skewed. We need to remove the skewness before we can proceed."
   ]
  },
  {
   "cell_type": "code",
   "execution_count": 523,
   "metadata": {},
   "outputs": [
    {
     "name": "stdout",
     "output_type": "stream",
     "text": [
      "             Recency  Frequency  MonetaryValue\n",
      "CustomerID                                    \n",
      "12747       1.098612   3.218876       6.855093\n",
      "12748       0.000000   6.788972       8.860238\n",
      "12749       1.386294   3.610918       6.701284\n",
      "12820       1.386294   2.833213       5.591062\n",
      "12822       4.262680   2.197225       4.984633\n"
     ]
    },
    {
     "data": {
      "image/png": "[encoded data removed]",
      "text/plain": [
       "<Figure size 432x288 with 1 Axes>"
      ]
     },
     "metadata": {},
     "output_type": "display_data"
    },
    {
     "data": {
      "image/png": "[encoded data removed]",
      "text/plain": [
       "<Figure size 432x288 with 1 Axes>"
      ]
     },
     "metadata": {},
     "output_type": "display_data"
    },
    {
     "data": {
      "image/png": "[encoded data removed]",
      "text/plain": [
       "<Figure size 432x288 with 1 Axes>"
      ]
     },
     "metadata": {},
     "output_type": "display_data"
    }
   ],
   "source": [
    "datamart_RFM_log = np.log(datamart_RFM)\n",
    "datamart_RFM_log = datamart_RFM_log.dropna()\n",
    "\n",
    "print(datamart_RFM_log.head())\n",
    "\n",
    "# Viewing the skewness\n",
    "sns.distplot(datamart_RFM_log['Recency'], color=\"Black\")\n",
    "plt.show()\n",
    "sns.distplot(datamart_RFM_log['Frequency'], color=\"Gold\")\n",
    "plt.show()\n",
    "sns.distplot(datamart_RFM_log['MonetaryValue'], color=\"Red\")\n",
    "plt.show()"
   ]
  },
  {
   "cell_type": "markdown",
   "metadata": {},
   "source": [
    "As we can see the skewness is removed."
   ]
  },
  {
   "cell_type": "code",
   "execution_count": 524,
   "metadata": {},
   "outputs": [
    {
     "name": "stdout",
     "output_type": "stream",
     "text": [
      "       Recency  Frequency  MonetaryValue\n",
      "count  3643.00    3643.00        3643.00\n",
      "mean     -0.00      -0.00          -0.00\n",
      "std       1.35       1.21           1.31\n",
      "min      -3.81      -2.17          -5.37\n",
      "25%      -0.86      -0.79          -0.86\n",
      "50%       0.13       0.03          -0.02\n",
      "75%       1.13       0.87           0.88\n",
      "max       2.09       5.14           5.85\n",
      "       Recency  Frequency  MonetaryValue\n",
      "count  3643.00    3643.00        3643.00\n",
      "mean      2.81       1.79           3.76\n",
      "std       1.00       1.00           1.00\n",
      "min       0.00       0.00          -0.33\n",
      "25%       2.18       1.15           3.11\n",
      "50%       2.91       1.82           3.75\n",
      "75%       3.65       2.52           4.43\n",
      "max       4.36       6.04           8.22\n",
      "******************\n",
      "Mean of the array:  [-0.  0.  0.]\n",
      "Standard deviation of the array:  [1. 1. 1.]\n",
      "******************\n",
      "Both the results are same\n"
     ]
    }
   ],
   "source": [
    "# Scaling the mean and the variance so that K-Means clustering would work better\n",
    "datamart_centered = datamart_RFM_log - datamart_RFM_log.mean()\n",
    "print(datamart_centered.describe().round(2))\n",
    "\n",
    "datamart_scaled = datamart_RFM_log / datamart_RFM_log.std()\n",
    "print(datamart_scaled.describe().round(2))\n",
    "\n",
    "# The above two lines could be achieved by using the StandardScaler package\n",
    "print('******************')\n",
    "scaler = StandardScaler()\n",
    "scaler.fit(datamart_RFM_log)\n",
    "datamart_normalized = scaler.transform(datamart_RFM_log)\n",
    "\n",
    "print('Mean of the array: ', datamart_normalized.mean(axis=0).round(2))\n",
    "print('Standard deviation of the array: ', datamart_normalized.std(axis=0).round(2))\n",
    "print('******************')\n",
    "print('Both the results are same')\n"
   ]
  },
  {
   "cell_type": "markdown",
   "metadata": {},
   "source": [
    "Practical implementation of K-means clustering"
   ]
  },
  {
   "cell_type": "code",
   "execution_count": 525,
   "metadata": {},
   "outputs": [
    {
     "data": {
      "text/html": [
       "\n",
       "\n",
       "\n",
       "\n",
       "\n",
       "\n",
       "  <div class=\"bk-root\" id=\"8f4c2bea-f897-4ce5-97e9-368f20026625\" data-root-id=\"10277\"></div>\n"
      ]
     },
     "metadata": {},
     "output_type": "display_data"
    },
    {
     "data": {
      "application/javascript": [
       "(function(root) {\n",
       "  function embed_document(root) {\n",
       "    \n",
       "  var docs_json = {\"edd5ccca-851d-4f99-999a-3e16813dfc9f\":{\"roots\":{\"references\":[{\"attributes\":{\"background_fill_color\":{\"value\":\"aliceblue\"},\"below\":[{\"id\":\"10286\",\"type\":\"LinearAxis\"}],\"left\":[{\"id\":\"10291\",\"type\":\"LinearAxis\"}],\"plot_height\":400,\"plot_width\":400,\"renderers\":[{\"id\":\"10286\",\"type\":\"LinearAxis\"},{\"id\":\"10290\",\"type\":\"Grid\"},{\"id\":\"10291\",\"type\":\"LinearAxis\"},{\"id\":\"10295\",\"type\":\"Grid\"},{\"id\":\"10304\",\"type\":\"BoxAnnotation\"},{\"id\":\"10314\",\"type\":\"GlyphRenderer\"},{\"id\":\"10319\",\"type\":\"GlyphRenderer\"}],\"title\":{\"id\":\"10667\",\"type\":\"Title\"},\"toolbar\":{\"id\":\"10302\",\"type\":\"Toolbar\"},\"x_range\":{\"id\":\"10278\",\"type\":\"DataRange1d\"},\"x_scale\":{\"id\":\"10282\",\"type\":\"LinearScale\"},\"y_range\":{\"id\":\"10280\",\"type\":\"DataRange1d\"},\"y_scale\":{\"id\":\"10284\",\"type\":\"LinearScale\"}},\"id\":\"10277\",\"subtype\":\"Figure\",\"type\":\"Plot\"},{\"attributes\":{\"line_alpha\":0.1,\"line_color\":\"#1f77b4\",\"line_width\":2,\"x\":{\"field\":\"x\"},\"y\":{\"field\":\"y\"}},\"id\":\"10313\",\"type\":\"Line\"},{\"attributes\":{},\"id\":\"10296\",\"type\":\"PanTool\"},{\"attributes\":{},\"id\":\"10300\",\"type\":\"ResetTool\"},{\"attributes\":{},\"id\":\"10297\",\"type\":\"WheelZoomTool\"},{\"attributes\":{\"source\":{\"id\":\"10316\",\"type\":\"ColumnDataSource\"}},\"id\":\"10320\",\"type\":\"CDSView\"},{\"attributes\":{\"source\":{\"id\":\"10311\",\"type\":\"ColumnDataSource\"}},\"id\":\"10315\",\"type\":\"CDSView\"},{\"attributes\":{\"plot\":null,\"text\":\"\"},\"id\":\"10667\",\"type\":\"Title\"},{\"attributes\":{},\"id\":\"10284\",\"type\":\"LinearScale\"},{\"attributes\":{},\"id\":\"10287\",\"type\":\"BasicTicker\"},{\"attributes\":{\"axis_label\":\"SSE\",\"formatter\":{\"id\":\"10672\",\"type\":\"BasicTickFormatter\"},\"plot\":{\"id\":\"10277\",\"subtype\":\"Figure\",\"type\":\"Plot\"},\"ticker\":{\"id\":\"10292\",\"type\":\"BasicTicker\"}},\"id\":\"10291\",\"type\":\"LinearAxis\"},{\"attributes\":{\"dimension\":1,\"plot\":{\"id\":\"10277\",\"subtype\":\"Figure\",\"type\":\"Plot\"},\"ticker\":{\"id\":\"10292\",\"type\":\"BasicTicker\"}},\"id\":\"10295\",\"type\":\"Grid\"},{\"attributes\":{},\"id\":\"10670\",\"type\":\"BasicTickFormatter\"},{\"attributes\":{\"plot\":{\"id\":\"10277\",\"subtype\":\"Figure\",\"type\":\"Plot\"},\"ticker\":{\"id\":\"10287\",\"type\":\"BasicTicker\"}},\"id\":\"10290\",\"type\":\"Grid\"},{\"attributes\":{\"axis_label\":\"No. of clusters(Normalized Data)\",\"formatter\":{\"id\":\"10670\",\"type\":\"BasicTickFormatter\"},\"plot\":{\"id\":\"10277\",\"subtype\":\"Figure\",\"type\":\"Plot\"},\"ticker\":{\"id\":\"10287\",\"type\":\"BasicTicker\"}},\"id\":\"10286\",\"type\":\"LinearAxis\"},{\"attributes\":{\"bottom_units\":\"screen\",\"fill_alpha\":{\"value\":0.5},\"fill_color\":{\"value\":\"lightgrey\"},\"left_units\":\"screen\",\"level\":\"overlay\",\"line_alpha\":{\"value\":1.0},\"line_color\":{\"value\":\"black\"},\"line_dash\":[4,4],\"line_width\":{\"value\":2},\"plot\":null,\"render_mode\":\"css\",\"right_units\":\"screen\",\"top_units\":\"screen\"},\"id\":\"10304\",\"type\":\"BoxAnnotation\"},{\"attributes\":{},\"id\":\"10282\",\"type\":\"LinearScale\"},{\"attributes\":{\"data_source\":{\"id\":\"10316\",\"type\":\"ColumnDataSource\"},\"glyph\":{\"id\":\"10317\",\"type\":\"Circle\"},\"hover_glyph\":null,\"muted_glyph\":null,\"nonselection_glyph\":{\"id\":\"10318\",\"type\":\"Circle\"},\"selection_glyph\":null,\"view\":{\"id\":\"10320\",\"type\":\"CDSView\"}},\"id\":\"10319\",\"type\":\"GlyphRenderer\"},{\"attributes\":{},\"id\":\"10292\",\"type\":\"BasicTicker\"},{\"attributes\":{\"active_drag\":\"auto\",\"active_inspect\":\"auto\",\"active_multi\":null,\"active_scroll\":\"auto\",\"active_tap\":\"auto\",\"tools\":[{\"id\":\"10296\",\"type\":\"PanTool\"},{\"id\":\"10297\",\"type\":\"WheelZoomTool\"},{\"id\":\"10298\",\"type\":\"BoxZoomTool\"},{\"id\":\"10299\",\"type\":\"SaveTool\"},{\"id\":\"10300\",\"type\":\"ResetTool\"},{\"id\":\"10301\",\"type\":\"HelpTool\"}]},\"id\":\"10302\",\"type\":\"Toolbar\"},{\"attributes\":{\"fill_color\":{\"value\":\"cyan\"},\"line_color\":{\"value\":\"#1f77b4\"},\"size\":{\"units\":\"screen\",\"value\":8},\"x\":{\"field\":\"x\"},\"y\":{\"field\":\"y\"}},\"id\":\"10317\",\"type\":\"Circle\"},{\"attributes\":{\"data_source\":{\"id\":\"10311\",\"type\":\"ColumnDataSource\"},\"glyph\":{\"id\":\"10312\",\"type\":\"Line\"},\"hover_glyph\":null,\"muted_glyph\":null,\"nonselection_glyph\":{\"id\":\"10313\",\"type\":\"Line\"},\"selection_glyph\":null,\"view\":{\"id\":\"10315\",\"type\":\"CDSView\"}},\"id\":\"10314\",\"type\":\"GlyphRenderer\"},{\"attributes\":{\"fill_alpha\":{\"value\":0.1},\"fill_color\":{\"value\":\"#1f77b4\"},\"line_alpha\":{\"value\":0.1},\"line_color\":{\"value\":\"#1f77b4\"},\"size\":{\"units\":\"screen\",\"value\":8},\"x\":{\"field\":\"x\"},\"y\":{\"field\":\"y\"}},\"id\":\"10318\",\"type\":\"Circle\"},{\"attributes\":{\"overlay\":{\"id\":\"10304\",\"type\":\"BoxAnnotation\"}},\"id\":\"10298\",\"type\":\"BoxZoomTool\"},{\"attributes\":{},\"id\":\"10672\",\"type\":\"BasicTickFormatter\"},{\"attributes\":{},\"id\":\"10677\",\"type\":\"UnionRenderers\"},{\"attributes\":{},\"id\":\"10674\",\"type\":\"Selection\"},{\"attributes\":{\"line_width\":2,\"x\":{\"field\":\"x\"},\"y\":{\"field\":\"y\"}},\"id\":\"10312\",\"type\":\"Line\"},{\"attributes\":{\"callback\":null},\"id\":\"10278\",\"type\":\"DataRange1d\"},{\"attributes\":{},\"id\":\"10299\",\"type\":\"SaveTool\"},{\"attributes\":{\"callback\":null,\"data\":{\"x\":[1,2,3,4,5,6,7,8,9,10],\"y\":[10929.0,5773.754421700698,4421.510363126377,3642.4686267050038,3079.838271307052,2756.0289866239937,2493.792707476899,2289.8432023376777,2156.175332535243,2012.5416474354774]},\"selected\":{\"id\":\"10676\",\"type\":\"Selection\"},\"selection_policy\":{\"id\":\"10677\",\"type\":\"UnionRenderers\"}},\"id\":\"10316\",\"type\":\"ColumnDataSource\"},{\"attributes\":{},\"id\":\"10676\",\"type\":\"Selection\"},{\"attributes\":{},\"id\":\"10301\",\"type\":\"HelpTool\"},{\"attributes\":{\"callback\":null},\"id\":\"10280\",\"type\":\"DataRange1d\"},{\"attributes\":{\"callback\":null,\"data\":{\"x\":[1,2,3,4,5,6,7,8,9,10],\"y\":[10929.0,5773.754421700698,4421.510363126377,3642.4686267050038,3079.838271307052,2756.0289866239937,2493.792707476899,2289.8432023376777,2156.175332535243,2012.5416474354774]},\"selected\":{\"id\":\"10674\",\"type\":\"Selection\"},\"selection_policy\":{\"id\":\"10675\",\"type\":\"UnionRenderers\"}},\"id\":\"10311\",\"type\":\"ColumnDataSource\"},{\"attributes\":{},\"id\":\"10675\",\"type\":\"UnionRenderers\"}],\"root_ids\":[\"10277\"]},\"title\":\"Bokeh Application\",\"version\":\"1.0.3\"}};\n",
       "  var render_items = [{\"docid\":\"edd5ccca-851d-4f99-999a-3e16813dfc9f\",\"roots\":{\"10277\":\"8f4c2bea-f897-4ce5-97e9-368f20026625\"}}];\n",
       "  root.Bokeh.embed.embed_items_notebook(docs_json, render_items);\n",
       "\n",
       "  }\n",
       "  if (root.Bokeh !== undefined) {\n",
       "    embed_document(root);\n",
       "  } else {\n",
       "    var attempts = 0;\n",
       "    var timer = setInterval(function(root) {\n",
       "      if (root.Bokeh !== undefined) {\n",
       "        embed_document(root);\n",
       "        clearInterval(timer);\n",
       "      }\n",
       "      attempts++;\n",
       "      if (attempts > 100) {\n",
       "        console.log(\"Bokeh: ERROR: Unable to run BokehJS code because BokehJS library is missing\");\n",
       "        clearInterval(timer);\n",
       "      }\n",
       "    }, 10, root)\n",
       "  }\n",
       "})(window);"
      ],
      "application/vnd.bokehjs_exec.v0+json": ""
     },
     "metadata": {
      "application/vnd.bokehjs_exec.v0+json": {
       "id": "10277"
      }
     },
     "output_type": "display_data"
    },
    {
     "data": {
      "text/html": [
       "\n",
       "\n",
       "\n",
       "\n",
       "\n",
       "\n",
       "  <div class=\"bk-root\" id=\"916496da-adcb-4129-b895-e35fe2251410\" data-root-id=\"10744\"></div>\n"
      ]
     },
     "metadata": {},
     "output_type": "display_data"
    },
    {
     "data": {
      "application/javascript": [
       "(function(root) {\n",
       "  function embed_document(root) {\n",
       "    \n",
       "  var docs_json = {\"f6d631d5-33cf-4f8c-a534-33a1b4aa5c5b\":{\"roots\":{\"references\":[{\"attributes\":{\"background_fill_color\":{\"value\":\"aliceblue\"},\"below\":[{\"id\":\"10753\",\"type\":\"LinearAxis\"}],\"left\":[{\"id\":\"10758\",\"type\":\"LinearAxis\"}],\"plot_height\":400,\"plot_width\":400,\"renderers\":[{\"id\":\"10753\",\"type\":\"LinearAxis\"},{\"id\":\"10757\",\"type\":\"Grid\"},{\"id\":\"10758\",\"type\":\"LinearAxis\"},{\"id\":\"10762\",\"type\":\"Grid\"},{\"id\":\"10771\",\"type\":\"BoxAnnotation\"},{\"id\":\"10781\",\"type\":\"GlyphRenderer\"},{\"id\":\"10786\",\"type\":\"GlyphRenderer\"}],\"title\":{\"id\":\"11145\",\"type\":\"Title\"},\"toolbar\":{\"id\":\"10769\",\"type\":\"Toolbar\"},\"x_range\":{\"id\":\"10745\",\"type\":\"DataRange1d\"},\"x_scale\":{\"id\":\"10749\",\"type\":\"LinearScale\"},\"y_range\":{\"id\":\"10747\",\"type\":\"DataRange1d\"},\"y_scale\":{\"id\":\"10751\",\"type\":\"LinearScale\"}},\"id\":\"10744\",\"subtype\":\"Figure\",\"type\":\"Plot\"},{\"attributes\":{},\"id\":\"10767\",\"type\":\"ResetTool\"},{\"attributes\":{},\"id\":\"11154\",\"type\":\"Selection\"},{\"attributes\":{\"overlay\":{\"id\":\"10771\",\"type\":\"BoxAnnotation\"}},\"id\":\"10765\",\"type\":\"BoxZoomTool\"},{\"attributes\":{\"callback\":null,\"data\":{\"x\":[1,2,3,4,5,6,7,8,9,10],\"y\":[6651888840.5182495,2882360822.135667,1085038958.1521058,602864074.0730462,428626433.14104915,291958559.32430667,221166544.42687201,169244450.38745,134230291.58919322,109930357.08559465]},\"selected\":{\"id\":\"11152\",\"type\":\"Selection\"},\"selection_policy\":{\"id\":\"11153\",\"type\":\"UnionRenderers\"}},\"id\":\"10778\",\"type\":\"ColumnDataSource\"},{\"attributes\":{\"callback\":null,\"data\":{\"x\":[1,2,3,4,5,6,7,8,9,10],\"y\":[6651888840.5182495,2882360822.135667,1085038958.1521058,602864074.0730462,428626433.14104915,291958559.32430667,221166544.42687201,169244450.38745,134230291.58919322,109930357.08559465]},\"selected\":{\"id\":\"11154\",\"type\":\"Selection\"},\"selection_policy\":{\"id\":\"11155\",\"type\":\"UnionRenderers\"}},\"id\":\"10783\",\"type\":\"ColumnDataSource\"},{\"attributes\":{},\"id\":\"10754\",\"type\":\"BasicTicker\"},{\"attributes\":{},\"id\":\"10759\",\"type\":\"BasicTicker\"},{\"attributes\":{\"source\":{\"id\":\"10783\",\"type\":\"ColumnDataSource\"}},\"id\":\"10787\",\"type\":\"CDSView\"},{\"attributes\":{},\"id\":\"10764\",\"type\":\"WheelZoomTool\"},{\"attributes\":{\"source\":{\"id\":\"10778\",\"type\":\"ColumnDataSource\"}},\"id\":\"10782\",\"type\":\"CDSView\"},{\"attributes\":{\"fill_color\":{\"value\":\"cyan\"},\"line_color\":{\"value\":\"#1f77b4\"},\"size\":{\"units\":\"screen\",\"value\":8},\"x\":{\"field\":\"x\"},\"y\":{\"field\":\"y\"}},\"id\":\"10784\",\"type\":\"Circle\"},{\"attributes\":{},\"id\":\"11152\",\"type\":\"Selection\"},{\"attributes\":{},\"id\":\"11150\",\"type\":\"BasicTickFormatter\"},{\"attributes\":{\"callback\":null},\"id\":\"10747\",\"type\":\"DataRange1d\"},{\"attributes\":{\"line_width\":2,\"x\":{\"field\":\"x\"},\"y\":{\"field\":\"y\"}},\"id\":\"10779\",\"type\":\"Line\"},{\"attributes\":{\"axis_label\":\"No. of clusters\",\"formatter\":{\"id\":\"11148\",\"type\":\"BasicTickFormatter\"},\"plot\":{\"id\":\"10744\",\"subtype\":\"Figure\",\"type\":\"Plot\"},\"ticker\":{\"id\":\"10754\",\"type\":\"BasicTicker\"}},\"id\":\"10753\",\"type\":\"LinearAxis\"},{\"attributes\":{\"axis_label\":\"SSE\",\"formatter\":{\"id\":\"11150\",\"type\":\"BasicTickFormatter\"},\"plot\":{\"id\":\"10744\",\"subtype\":\"Figure\",\"type\":\"Plot\"},\"ticker\":{\"id\":\"10759\",\"type\":\"BasicTicker\"}},\"id\":\"10758\",\"type\":\"LinearAxis\"},{\"attributes\":{\"data_source\":{\"id\":\"10783\",\"type\":\"ColumnDataSource\"},\"glyph\":{\"id\":\"10784\",\"type\":\"Circle\"},\"hover_glyph\":null,\"muted_glyph\":null,\"nonselection_glyph\":{\"id\":\"10785\",\"type\":\"Circle\"},\"selection_glyph\":null,\"view\":{\"id\":\"10787\",\"type\":\"CDSView\"}},\"id\":\"10786\",\"type\":\"GlyphRenderer\"},{\"attributes\":{},\"id\":\"11155\",\"type\":\"UnionRenderers\"},{\"attributes\":{\"active_drag\":\"auto\",\"active_inspect\":\"auto\",\"active_multi\":null,\"active_scroll\":\"auto\",\"active_tap\":\"auto\",\"tools\":[{\"id\":\"10763\",\"type\":\"PanTool\"},{\"id\":\"10764\",\"type\":\"WheelZoomTool\"},{\"id\":\"10765\",\"type\":\"BoxZoomTool\"},{\"id\":\"10766\",\"type\":\"SaveTool\"},{\"id\":\"10767\",\"type\":\"ResetTool\"},{\"id\":\"10768\",\"type\":\"HelpTool\"}]},\"id\":\"10769\",\"type\":\"Toolbar\"},{\"attributes\":{\"data_source\":{\"id\":\"10778\",\"type\":\"ColumnDataSource\"},\"glyph\":{\"id\":\"10779\",\"type\":\"Line\"},\"hover_glyph\":null,\"muted_glyph\":null,\"nonselection_glyph\":{\"id\":\"10780\",\"type\":\"Line\"},\"selection_glyph\":null,\"view\":{\"id\":\"10782\",\"type\":\"CDSView\"}},\"id\":\"10781\",\"type\":\"GlyphRenderer\"},{\"attributes\":{},\"id\":\"10763\",\"type\":\"PanTool\"},{\"attributes\":{\"plot\":null,\"text\":\"\"},\"id\":\"11145\",\"type\":\"Title\"},{\"attributes\":{\"bottom_units\":\"screen\",\"fill_alpha\":{\"value\":0.5},\"fill_color\":{\"value\":\"lightgrey\"},\"left_units\":\"screen\",\"level\":\"overlay\",\"line_alpha\":{\"value\":1.0},\"line_color\":{\"value\":\"black\"},\"line_dash\":[4,4],\"line_width\":{\"value\":2},\"plot\":null,\"render_mode\":\"css\",\"right_units\":\"screen\",\"top_units\":\"screen\"},\"id\":\"10771\",\"type\":\"BoxAnnotation\"},{\"attributes\":{},\"id\":\"10749\",\"type\":\"LinearScale\"},{\"attributes\":{\"line_alpha\":0.1,\"line_color\":\"#1f77b4\",\"line_width\":2,\"x\":{\"field\":\"x\"},\"y\":{\"field\":\"y\"}},\"id\":\"10780\",\"type\":\"Line\"},{\"attributes\":{},\"id\":\"10751\",\"type\":\"LinearScale\"},{\"attributes\":{\"dimension\":1,\"plot\":{\"id\":\"10744\",\"subtype\":\"Figure\",\"type\":\"Plot\"},\"ticker\":{\"id\":\"10759\",\"type\":\"BasicTicker\"}},\"id\":\"10762\",\"type\":\"Grid\"},{\"attributes\":{},\"id\":\"10766\",\"type\":\"SaveTool\"},{\"attributes\":{},\"id\":\"11148\",\"type\":\"BasicTickFormatter\"},{\"attributes\":{\"fill_alpha\":{\"value\":0.1},\"fill_color\":{\"value\":\"#1f77b4\"},\"line_alpha\":{\"value\":0.1},\"line_color\":{\"value\":\"#1f77b4\"},\"size\":{\"units\":\"screen\",\"value\":8},\"x\":{\"field\":\"x\"},\"y\":{\"field\":\"y\"}},\"id\":\"10785\",\"type\":\"Circle\"},{\"attributes\":{\"plot\":{\"id\":\"10744\",\"subtype\":\"Figure\",\"type\":\"Plot\"},\"ticker\":{\"id\":\"10754\",\"type\":\"BasicTicker\"}},\"id\":\"10757\",\"type\":\"Grid\"},{\"attributes\":{},\"id\":\"11153\",\"type\":\"UnionRenderers\"},{\"attributes\":{\"callback\":null},\"id\":\"10745\",\"type\":\"DataRange1d\"},{\"attributes\":{},\"id\":\"10768\",\"type\":\"HelpTool\"}],\"root_ids\":[\"10744\"]},\"title\":\"Bokeh Application\",\"version\":\"1.0.3\"}};\n",
       "  var render_items = [{\"docid\":\"f6d631d5-33cf-4f8c-a534-33a1b4aa5c5b\",\"roots\":{\"10744\":\"916496da-adcb-4129-b895-e35fe2251410\"}}];\n",
       "  root.Bokeh.embed.embed_items_notebook(docs_json, render_items);\n",
       "\n",
       "  }\n",
       "  if (root.Bokeh !== undefined) {\n",
       "    embed_document(root);\n",
       "  } else {\n",
       "    var attempts = 0;\n",
       "    var timer = setInterval(function(root) {\n",
       "      if (root.Bokeh !== undefined) {\n",
       "        embed_document(root);\n",
       "        clearInterval(timer);\n",
       "      }\n",
       "      attempts++;\n",
       "      if (attempts > 100) {\n",
       "        console.log(\"Bokeh: ERROR: Unable to run BokehJS code because BokehJS library is missing\");\n",
       "        clearInterval(timer);\n",
       "      }\n",
       "    }, 10, root)\n",
       "  }\n",
       "})(window);"
      ],
      "application/vnd.bokehjs_exec.v0+json": ""
     },
     "metadata": {
      "application/vnd.bokehjs_exec.v0+json": {
       "id": "10744"
      }
     },
     "output_type": "display_data"
    },
    {
     "name": "stdout",
     "output_type": "stream",
     "text": [
      "The graphs show that it should have minimum of 2 clusters and suggested maximum of 3 clusters.\n",
      "Howerver, we need to plot both the 2 and 3 clusters and analyse which one makes sense.\n"
     ]
    }
   ],
   "source": [
    "# Getting the idea about number of clusters\n",
    "# Fit KMeans and calculate SSE for each *k*\n",
    "sse = {}\n",
    "for k in range(1, 11):\n",
    "    kmeans = KMeans(n_clusters=k, random_state=1)\n",
    "    kmeans.fit(datamart_normalized)\n",
    "    sse[k] = kmeans.inertia_ # sum of squared distances to closest cluster center\n",
    "\n",
    "key = list(sse.keys())\n",
    "value = list(sse.values())\n",
    "p = figure(x_axis_label = 'No. of clusters(Normalized Data)',y_axis_label = 'SSE', plot_width=400, plot_height=400, background_fill_color = 'aliceblue')\n",
    "\n",
    "p.line(key, value, line_width=2, color = \"black\")\n",
    "\n",
    "p.circle(key, value, fill_color=\"cyan\", size=8)\n",
    "\n",
    "show(p)\n",
    "\n",
    "sse = {}\n",
    "for k in range(1, 11):\n",
    "    kmeans = KMeans(n_clusters=k, random_state=1)\n",
    "    kmeans.fit(datamart_RFM)\n",
    "    sse[k] = kmeans.inertia_ # sum of squared distances to closest cluster center\n",
    "\n",
    "key = list(sse.keys())\n",
    "value = list(sse.values())\n",
    "p = figure(x_axis_label = 'No. of clusters',y_axis_label = 'SSE',plot_width=400, plot_height=400, background_fill_color = 'aliceblue')\n",
    "\n",
    "p.line(key, value, line_width=2, color = \"black\")\n",
    "\n",
    "p.circle(key, value, fill_color=\"cyan\", size=8)\n",
    "\n",
    "show(p)\n",
    "\n",
    "print('The graphs show that it should have minimum of 2 clusters and suggested maximum of 3 clusters.')\n",
    "print('Howerver, we need to plot both the 2 and 3 clusters and analyse which one makes sense.')"
   ]
  },
  {
   "cell_type": "code",
   "execution_count": 526,
   "metadata": {},
   "outputs": [
    {
     "name": "stdout",
     "output_type": "stream",
     "text": [
      "Clusters defined for the above normalized dataset :  [0 1]\n",
      "            Recency  Frequency  MonetaryValue  Cluster\n",
      "CustomerID                                            \n",
      "12747             3         25         948.70        1\n",
      "12748             1        888        7046.16        1\n",
      "12749             4         37         813.45        1\n",
      "12820             4         17         268.02        1\n",
      "12822            71          9         146.15        0\n"
     ]
    },
    {
     "data": {
      "text/html": [
       "<div>\n",
       "<style scoped>\n",
       "    .dataframe tbody tr th:only-of-type {\n",
       "        vertical-align: middle;\n",
       "    }\n",
       "\n",
       "    .dataframe tbody tr th {\n",
       "        vertical-align: top;\n",
       "    }\n",
       "\n",
       "    .dataframe thead tr th {\n",
       "        text-align: left;\n",
       "    }\n",
       "\n",
       "    .dataframe thead tr:last-of-type th {\n",
       "        text-align: right;\n",
       "    }\n",
       "</style>\n",
       "<table border=\"1\" class=\"dataframe\">\n",
       "  <thead>\n",
       "    <tr>\n",
       "      <th></th>\n",
       "      <th>Recency</th>\n",
       "      <th>Frequency</th>\n",
       "      <th colspan=\"2\" halign=\"left\">MonetaryValue</th>\n",
       "    </tr>\n",
       "    <tr>\n",
       "      <th></th>\n",
       "      <th>mean</th>\n",
       "      <th>mean</th>\n",
       "      <th>mean</th>\n",
       "      <th>count</th>\n",
       "    </tr>\n",
       "    <tr>\n",
       "      <th>Cluster</th>\n",
       "      <th></th>\n",
       "      <th></th>\n",
       "      <th></th>\n",
       "      <th></th>\n",
       "    </tr>\n",
       "  </thead>\n",
       "  <tbody>\n",
       "    <tr>\n",
       "      <th>0</th>\n",
       "      <td>137.0</td>\n",
       "      <td>5.0</td>\n",
       "      <td>92.0</td>\n",
       "      <td>2023</td>\n",
       "    </tr>\n",
       "    <tr>\n",
       "      <th>1</th>\n",
       "      <td>32.0</td>\n",
       "      <td>35.0</td>\n",
       "      <td>719.0</td>\n",
       "      <td>1620</td>\n",
       "    </tr>\n",
       "  </tbody>\n",
       "</table>\n",
       "</div>"
      ],
      "text/plain": [
       "        Recency Frequency MonetaryValue      \n",
       "           mean      mean          mean count\n",
       "Cluster                                      \n",
       "0         137.0       5.0          92.0  2023\n",
       "1          32.0      35.0         719.0  1620"
      ]
     },
     "execution_count": 526,
     "metadata": {},
     "output_type": "execute_result"
    }
   ],
   "source": [
    "kmeans = KMeans(n_clusters = 2, random_state = 1)\n",
    "kmeans.fit(datamart_normalized)\n",
    "cluster_labels = kmeans.labels_\n",
    "print('Clusters defined for the above normalized dataset : ', np.unique(cluster_labels))\n",
    "datamart_RFM_K2 = datamart_RFM.assign(Cluster = cluster_labels)\n",
    "print(datamart_RFM_K2.head())\n",
    "\n",
    "datamart_RFM_K2.groupby(['Cluster']).agg({\n",
    "    'Recency': 'mean',\n",
    "    'Frequency': 'mean',\n",
    "    'MonetaryValue': ['mean', 'count'],\n",
    "}).round(0)"
   ]
  },
  {
   "cell_type": "code",
   "execution_count": 527,
   "metadata": {},
   "outputs": [
    {
     "name": "stdout",
     "output_type": "stream",
     "text": [
      "Clusters defined for the above normalized dataset :  [0 1 2]\n",
      "            Recency  Frequency  MonetaryValue  Cluster\n",
      "CustomerID                                            \n",
      "12747             3         25         948.70        0\n",
      "12748             1        888        7046.16        0\n",
      "12749             4         37         813.45        0\n",
      "12820             4         17         268.02        0\n",
      "12822            71          9         146.15        2\n"
     ]
    },
    {
     "data": {
      "text/html": [
       "<div>\n",
       "<style scoped>\n",
       "    .dataframe tbody tr th:only-of-type {\n",
       "        vertical-align: middle;\n",
       "    }\n",
       "\n",
       "    .dataframe tbody tr th {\n",
       "        vertical-align: top;\n",
       "    }\n",
       "\n",
       "    .dataframe thead tr th {\n",
       "        text-align: left;\n",
       "    }\n",
       "\n",
       "    .dataframe thead tr:last-of-type th {\n",
       "        text-align: right;\n",
       "    }\n",
       "</style>\n",
       "<table border=\"1\" class=\"dataframe\">\n",
       "  <thead>\n",
       "    <tr>\n",
       "      <th></th>\n",
       "      <th>Recency</th>\n",
       "      <th>Frequency</th>\n",
       "      <th colspan=\"2\" halign=\"left\">MonetaryValue</th>\n",
       "    </tr>\n",
       "    <tr>\n",
       "      <th></th>\n",
       "      <th>mean</th>\n",
       "      <th>mean</th>\n",
       "      <th>mean</th>\n",
       "      <th>count</th>\n",
       "    </tr>\n",
       "    <tr>\n",
       "      <th>Cluster</th>\n",
       "      <th></th>\n",
       "      <th></th>\n",
       "      <th></th>\n",
       "      <th></th>\n",
       "    </tr>\n",
       "  </thead>\n",
       "  <tbody>\n",
       "    <tr>\n",
       "      <th>0</th>\n",
       "      <td>16.0</td>\n",
       "      <td>50.0</td>\n",
       "      <td>1051.0</td>\n",
       "      <td>901</td>\n",
       "    </tr>\n",
       "    <tr>\n",
       "      <th>1</th>\n",
       "      <td>167.0</td>\n",
       "      <td>3.0</td>\n",
       "      <td>53.0</td>\n",
       "      <td>1156</td>\n",
       "    </tr>\n",
       "    <tr>\n",
       "      <th>2</th>\n",
       "      <td>77.0</td>\n",
       "      <td>12.0</td>\n",
       "      <td>216.0</td>\n",
       "      <td>1586</td>\n",
       "    </tr>\n",
       "  </tbody>\n",
       "</table>\n",
       "</div>"
      ],
      "text/plain": [
       "        Recency Frequency MonetaryValue      \n",
       "           mean      mean          mean count\n",
       "Cluster                                      \n",
       "0          16.0      50.0        1051.0   901\n",
       "1         167.0       3.0          53.0  1156\n",
       "2          77.0      12.0         216.0  1586"
      ]
     },
     "execution_count": 527,
     "metadata": {},
     "output_type": "execute_result"
    }
   ],
   "source": [
    "kmeans = KMeans(n_clusters = 3, random_state = 1)\n",
    "kmeans.fit(datamart_normalized)\n",
    "cluster_labels = kmeans.labels_\n",
    "print('Clusters defined for the above normalized dataset : ', np.unique(cluster_labels))\n",
    "datamart_RFM_K3 = datamart_RFM.assign(Cluster = cluster_labels)\n",
    "print(datamart_RFM_K3.head())\n",
    "\n",
    "datamart_RFM_K3.groupby(['Cluster']).agg({\n",
    "    'Recency': 'mean',\n",
    "    'Frequency': 'mean',\n",
    "    'MonetaryValue': ['mean', 'count'],\n",
    "}).round(0)"
   ]
  },
  {
   "cell_type": "markdown",
   "metadata": {},
   "source": [
    "Snake Plot : \n",
    "* Market research technique to compare different segments\n",
    "* Visual representation of each segment's attributes\n",
    "* Need to first normalize data (center & scale)\n",
    "* Plot each cluster's average normalized values of each attribute\n"
   ]
  },
  {
   "cell_type": "code",
   "execution_count": 528,
   "metadata": {},
   "outputs": [
    {
     "name": "stdout",
     "output_type": "stream",
     "text": [
      "             Recency  Frequency  MonetaryValue  Cluster\n",
      "CustomerID                                             \n",
      "12747      -2.002202   0.865157       1.464940        0\n",
      "12748      -2.814518   3.815272       2.994692        0\n",
      "12749      -1.789490   1.189117       1.347598        0\n",
      "12820      -1.789490   0.546468       0.500595        0\n",
      "12822       0.337315   0.020925       0.037943        2\n"
     ]
    }
   ],
   "source": [
    "datamart_normalized = pd.DataFrame(datamart_normalized, \n",
    "                                   index=datamart_RFM.index, \n",
    "                                   columns=datamart_RFM.columns)\n",
    "\n",
    "datamart_normalized['Cluster'] = datamart_RFM_K3['Cluster']\n",
    "\n",
    "print(datamart_normalized.head())"
   ]
  },
  {
   "cell_type": "code",
   "execution_count": 529,
   "metadata": {},
   "outputs": [
    {
     "name": "stdout",
     "output_type": "stream",
     "text": [
      "   CustomerID  Cluster Attribute     Value\n",
      "0       12747        0   Recency -2.002202\n",
      "1       12748        0   Recency -2.814518\n",
      "2       12749        0   Recency -1.789490\n",
      "3       12820        0   Recency -1.789490\n",
      "4       12822        2   Recency  0.337315\n"
     ]
    }
   ],
   "source": [
    "# Melting the data into a long format so RFM values and metric names are stored in 1 column each\n",
    "datamart_melt = pd.melt(datamart_normalized.reset_index(), \n",
    "                    id_vars=['CustomerID', 'Cluster'],\n",
    "                    value_vars=['Recency', 'Frequency', 'MonetaryValue'], \n",
    "                    var_name='Attribute', \n",
    "                    value_name='Value')\n",
    "\n",
    "print(datamart_melt.head())"
   ]
  },
  {
   "cell_type": "code",
   "execution_count": 530,
   "metadata": {},
   "outputs": [
    {
     "data": {
      "text/plain": [
       "<matplotlib.axes._subplots.AxesSubplot at 0x1d7871956a0>"
      ]
     },
     "execution_count": 530,
     "metadata": {},
     "output_type": "execute_result"
    },
    {
     "data": {
      "image/png": "[encoded data removed]",
      "text/plain": [
       "<Figure size 432x288 with 1 Axes>"
      ]
     },
     "metadata": {},
     "output_type": "display_data"
    }
   ],
   "source": [
    "# Plotting the snakeplot\n",
    "\n",
    "plt.title('Snake plot of standardized variables')\n",
    "\n",
    "sns.lineplot(x=\"Attribute\", y=\"Value\", hue='Cluster', data=datamart_melt)"
   ]
  },
  {
   "cell_type": "markdown",
   "metadata": {},
   "source": [
    "In the above graph, we can deduce the facts that cluster 1 has low frequency and monetary value, but high recency. They shop for a small value, but are very recent.\n",
    "\n",
    "Cluster 0 is exact opposite of cluster 1.\n",
    "\n",
    "Cluster 2 is low on all points. they have low frequency, shop for value and they do not often visit the site."
   ]
  }
 ],
 "metadata": {
  "kernelspec": {
   "display_name": "Python 3",
   "language": "python",
   "name": "python3"
  },
  "language_info": {
   "codemirror_mode": {
    "name": "ipython",
    "version": 3
   },
   "file_extension": ".py",
   "mimetype": "text/x-python",
   "name": "python",
   "nbconvert_exporter": "python",
   "pygments_lexer": "ipython3",
   "version": "3.6.5"
  }
 },
 "nbformat": 4,
 "nbformat_minor": 2
}
